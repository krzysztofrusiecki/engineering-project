{
 "cells": [
  {
   "cell_type": "markdown",
   "metadata": {},
   "source": [
    "## Importowanie potrzebnych modułów"
   ]
  },
  {
   "cell_type": "code",
   "execution_count": 99,
   "metadata": {},
   "outputs": [],
   "source": [
    "import torch\n",
    "import torch.nn as nn\n",
    "import torch.nn.functional as F\n",
    "from torchvision import transforms, models, datasets\n",
    "from torchvision.utils import make_grid\n",
    "from torch.utils.data import DataLoader"
   ]
  },
  {
   "cell_type": "code",
   "execution_count": 100,
   "metadata": {},
   "outputs": [],
   "source": [
    "import numpy as np\n",
    "import matplotlib.pyplot as plt\n",
    "%matplotlib inline\n",
    "\n",
    "import warnings\n",
    "warnings.filterwarnings('ignore')\n",
    "\n",
    "import random\n",
    "from math import log10, sqrt, ceil\n",
    "from statistics import mean, stdev, median\n",
    "\n",
    "import pandas as pd\n",
    "import json"
   ]
  },
  {
   "cell_type": "code",
   "execution_count": 101,
   "metadata": {},
   "outputs": [],
   "source": [
    "d=1\n",
    "p=0.5\n",
    "loops = 5"
   ]
  },
  {
   "cell_type": "code",
   "execution_count": 102,
   "metadata": {},
   "outputs": [],
   "source": [
    "im_dir = '../wykresy/'"
   ]
  },
  {
   "cell_type": "markdown",
   "metadata": {},
   "source": [
    "## Funkcje transferujące dane do dostępnego urządzenia"
   ]
  },
  {
   "cell_type": "code",
   "execution_count": 103,
   "metadata": {},
   "outputs": [],
   "source": [
    "# ustawienie urządzenia\n",
    "\n",
    "def get_default_device():\n",
    "    if torch.cuda.is_available():\n",
    "        print('gpu is active')\n",
    "        return torch.device('cuda')\n",
    "    else:\n",
    "        print('cpu is active')\n",
    "        return torch.device('cpu')"
   ]
  },
  {
   "cell_type": "code",
   "execution_count": 104,
   "metadata": {},
   "outputs": [],
   "source": [
    "# funkcja transferująca tensory do wybranego urządzenia\n",
    "\n",
    "def to_device(data, device):\n",
    "    if isinstance(data, (list, tuple)):\n",
    "        return [to_device(x, device) for x in data]\n",
    "    return data.to(device, non_blocking=True)"
   ]
  },
  {
   "cell_type": "code",
   "execution_count": 105,
   "metadata": {},
   "outputs": [],
   "source": [
    "class DeviceDataLoader():\n",
    "    def __init__(self, dl, device):\n",
    "        self.dl = dl\n",
    "        self.device = device\n",
    "        \n",
    "    def __iter__(self):\n",
    "        for b in self.dl:\n",
    "            yield to_device(b, self.device)\n",
    "    def __len__(self):\n",
    "        return len(self.dl)"
   ]
  },
  {
   "cell_type": "code",
   "execution_count": 106,
   "metadata": {},
   "outputs": [
    {
     "name": "stdout",
     "output_type": "stream",
     "text": [
      "gpu is active\n"
     ]
    }
   ],
   "source": [
    "device = get_default_device()"
   ]
  },
  {
   "cell_type": "markdown",
   "metadata": {},
   "source": [
    "## Pobranie zbioru treningowego i testowego"
   ]
  },
  {
   "cell_type": "code",
   "execution_count": 107,
   "metadata": {},
   "outputs": [],
   "source": [
    "transform = transforms.ToTensor()"
   ]
  },
  {
   "cell_type": "code",
   "execution_count": 108,
   "metadata": {},
   "outputs": [
    {
     "name": "stdout",
     "output_type": "stream",
     "text": [
      "Files already downloaded and verified\n",
      "Files already downloaded and verified\n"
     ]
    }
   ],
   "source": [
    "train_data = datasets.CIFAR10('./', train=True, download=True, transform=transform)\n",
    "\n",
    "test_data = datasets.CIFAR10('./', train=False, download=True, transform=transform)"
   ]
  },
  {
   "cell_type": "code",
   "execution_count": 109,
   "metadata": {},
   "outputs": [],
   "source": [
    "train_loader = DataLoader(train_data, batch_size=32, shuffle=True)\n",
    "\n",
    "test_loader = DataLoader(test_data, batch_size=32, shuffle=True)"
   ]
  },
  {
   "cell_type": "code",
   "execution_count": 110,
   "metadata": {},
   "outputs": [],
   "source": [
    "train_loader = DeviceDataLoader(train_loader, device)\n",
    "test_loader = DeviceDataLoader(test_loader, device)"
   ]
  },
  {
   "cell_type": "markdown",
   "metadata": {},
   "source": [
    "## Funkcje treningowe sieci"
   ]
  },
  {
   "cell_type": "code",
   "execution_count": 111,
   "metadata": {},
   "outputs": [],
   "source": [
    "def loss_batch(model, loss_func, xb, yb, opt=None, metric=None):\n",
    "    preds = model(xb)\n",
    "    loss = loss_func(preds, yb)\n",
    "    \n",
    "    if opt is not None:\n",
    "        loss.backward()\n",
    "        opt.step()\n",
    "        opt.zero_grad()\n",
    "    metric_result = None\n",
    "    if metric is not None:\n",
    "        metric_result = metric(preds, yb)\n",
    "    \n",
    "    return loss.item(), len(xb), metric_result\n",
    "\n",
    "def evaluate(model, loss_func, test_loader, metric=None):\n",
    "    with torch.no_grad():\n",
    "        results = [loss_batch(model, loss_func, xb, yb, metric=metric) for xb,yb in test_loader]\n",
    "        losses, nums, metrics = zip(*results)\n",
    "        \n",
    "        total = np.sum(nums)\n",
    "        \n",
    "        avg_loss = np.sum(np.multiply(losses, nums)) / total\n",
    "        \n",
    "        avg_metric = None\n",
    "        \n",
    "        if metric is not None:\n",
    "            avg_metric = np.sum(np.multiply(metrics, nums)) / total\n",
    "        return avg_loss, total, avg_metric\n",
    "\n",
    "import time\n",
    "\n",
    "def fit(epochs, lr, model, loss_func, train_loader, test_loader, metric=None, opt_func=None):\n",
    "    start = time.time()\n",
    "    losses, metrics = [], []\n",
    "    \n",
    "    if opt_func is None:\n",
    "        opt_func = torch.optim.Adam\n",
    "    opt = torch.optim.Adam(model.parameters(), lr=lr)\n",
    "    \n",
    "    for epoch in range(epochs):\n",
    "        for xb, yb in train_loader:\n",
    "            loss,_,_ = loss_batch(model, loss_func, xb, yb, opt)\n",
    "        result = evaluate(model, loss_func, test_loader, metric)\n",
    "        val_loss, total, val_metric = result\n",
    "        \n",
    "        losses.append(val_loss)\n",
    "        metrics.append(val_metric)\n",
    "        \n",
    "        if metric is None:\n",
    "            print(f'Epoch: [{epoch+1}/{epochs}]\\tLoss: {val_loss:.4f}\\tElapsed time: {((time.time()-start)/60):.2f} minutes')\n",
    "        else:\n",
    "            print(f'Epoch: [{epoch+1}/{epochs}]\\tLoss: {val_loss:.4f}\\t{metric.__name__}: {val_metric:.4f}\\tElapsed time: {((time.time()-start)/60):.2f} minutes')\n",
    "    return losses, metrics\n",
    "\n",
    "def accuracy(outputs, labels):\n",
    "    _, preds = torch.max(outputs, dim=1)\n",
    "    return torch.sum(preds == labels).item() / len(preds)"
   ]
  },
  {
   "cell_type": "markdown",
   "metadata": {},
   "source": [
    "## Deklaracja sieci"
   ]
  },
  {
   "cell_type": "code",
   "execution_count": 112,
   "metadata": {},
   "outputs": [],
   "source": [
    "if d==1:\n",
    "    class CNN(nn.Module):\n",
    "        def __init__(self, p=0.0):\n",
    "            super().__init__()\n",
    "            self.conv1 = nn.Conv2d(3, 16, 3, 1, padding=1)\n",
    "            self.conv2 = nn.Conv2d(16, 32, 3, 1, padding=1)\n",
    "            self.drop1 = nn.Dropout(0.25)\n",
    "            self.conv3 = nn.Conv2d(32, 32, 3, 1, padding=1)\n",
    "            self.conv4 = nn.Conv2d(32, 64, 3, 1, padding=1)\n",
    "            self.drop2 = nn.Dropout(p)\n",
    "            self.fc1 = nn.Linear(64*8*8,256)\n",
    "            self.fc2 = nn.Linear(256,64)\n",
    "            self.fc3 = nn.Linear(64,10)\n",
    "        \n",
    "        def forward(self, X):\n",
    "            X = F.relu(self.conv1(X)) %(((32-2-2)/2)-2-2)/2\n",
    "            X = F.relu(self.conv2(X))\n",
    "            X = F.max_pool2d(X,2,2)\n",
    "            X = F.relu(self.drop1(self.conv3(X)))\n",
    "            X = F.relu(self.conv4(X))\n",
    "            X = F.max_pool2d(X,2,2)\n",
    "            X = X.view(-1, 8*8*64)\n",
    "            X = F.relu(self.drop2(self.fc1(X)))\n",
    "            X = F.relu(self.fc2(X))\n",
    "            X = self.fc3(X)\n",
    "        \n",
    "            return F.log_softmax(X, dim=1)\n",
    "        \n",
    "elif d==2:   \n",
    "    class CNN(nn.Module):\n",
    "        def __init__(self, p=0.0):\n",
    "            super().__init__()\n",
    "            self.conv1 = nn.Conv2d(3, 16, 3, 1, padding=1)\n",
    "            self.conv2 = nn.Conv2d(16, 32, 3, 1, padding=1)\n",
    "            self.drop1 = nn.Dropout(0.25)\n",
    "            self.conv3 = nn.Conv2d(32, 32, 3, 1, padding=1)\n",
    "            self.conv4 = nn.Conv2d(32, 64, 3, 1, padding=1)\n",
    "            self.fc1 = nn.Linear(64*8*8,256)\n",
    "            self.drop2 = nn.Dropout(p)\n",
    "            self.fc2 = nn.Linear(256,64)\n",
    "            self.fc3 = nn.Linear(64,10)\n",
    "        \n",
    "        def forward(self, X):\n",
    "            X = F.relu(self.conv1(X)) %(((32-2-2)/2)-2-2)/2\n",
    "            X = F.relu(self.conv2(X))\n",
    "            X = F.max_pool2d(X,2,2)\n",
    "            X = F.relu(self.drop1(self.conv3(X)))\n",
    "            X = F.relu(self.conv4(X))\n",
    "            X = F.max_pool2d(X,2,2)\n",
    "            X = X.view(-1, 8*8*64)\n",
    "            X = F.relu(self.fc1(X))\n",
    "            X = F.relu(self.drop2(self.fc2(X)))\n",
    "            X = self.fc3(X)\n",
    "        \n",
    "            return F.log_softmax(X, dim=1)"
   ]
  },
  {
   "cell_type": "code",
   "execution_count": 113,
   "metadata": {},
   "outputs": [],
   "source": [
    "model = CNN(p=p)"
   ]
  },
  {
   "cell_type": "code",
   "execution_count": 114,
   "metadata": {},
   "outputs": [
    {
     "data": {
      "text/plain": [
       "CNN(\n",
       "  (conv1): Conv2d(3, 16, kernel_size=(3, 3), stride=(1, 1), padding=(1, 1))\n",
       "  (conv2): Conv2d(16, 32, kernel_size=(3, 3), stride=(1, 1), padding=(1, 1))\n",
       "  (drop1): Dropout(p=0.25, inplace=False)\n",
       "  (conv3): Conv2d(32, 32, kernel_size=(3, 3), stride=(1, 1), padding=(1, 1))\n",
       "  (conv4): Conv2d(32, 64, kernel_size=(3, 3), stride=(1, 1), padding=(1, 1))\n",
       "  (drop2): Dropout(p=0.5, inplace=False)\n",
       "  (fc1): Linear(in_features=4096, out_features=256, bias=True)\n",
       "  (fc2): Linear(in_features=256, out_features=64, bias=True)\n",
       "  (fc3): Linear(in_features=64, out_features=10, bias=True)\n",
       ")"
      ]
     },
     "execution_count": 114,
     "metadata": {},
     "output_type": "execute_result"
    }
   ],
   "source": [
    "to_device(model, device)"
   ]
  },
  {
   "cell_type": "markdown",
   "metadata": {},
   "source": [
    "## Trenowanie sieci i rysowanie wykresów"
   ]
  },
  {
   "cell_type": "code",
   "execution_count": 115,
   "metadata": {},
   "outputs": [
    {
     "name": "stdout",
     "output_type": "stream",
     "text": [
      "Epoch: [1/10]\tLoss: 1.5336\taccuracy: 0.4486\tElapsed time: 0.78 minutes\n",
      "Epoch: [2/10]\tLoss: 1.2821\taccuracy: 0.5351\tElapsed time: 1.55 minutes\n",
      "Epoch: [3/10]\tLoss: 1.1438\taccuracy: 0.5892\tElapsed time: 2.35 minutes\n",
      "Epoch: [4/10]\tLoss: 1.0794\taccuracy: 0.6172\tElapsed time: 3.13 minutes\n",
      "Epoch: [5/10]\tLoss: 1.0652\taccuracy: 0.6306\tElapsed time: 3.90 minutes\n",
      "Epoch: [6/10]\tLoss: 0.9694\taccuracy: 0.6632\tElapsed time: 4.67 minutes\n",
      "Epoch: [7/10]\tLoss: 0.9729\taccuracy: 0.6591\tElapsed time: 5.43 minutes\n",
      "Epoch: [8/10]\tLoss: 0.9951\taccuracy: 0.6552\tElapsed time: 6.20 minutes\n",
      "Epoch: [9/10]\tLoss: 0.9231\taccuracy: 0.6803\tElapsed time: 6.96 minutes\n",
      "Epoch: [10/10]\tLoss: 0.9444\taccuracy: 0.6751\tElapsed time: 7.72 minutes\n"
     ]
    }
   ],
   "source": [
    "losses1, metrics1 = fit(10, 0.001, model, F.cross_entropy, train_loader, test_loader, accuracy)"
   ]
  },
  {
   "cell_type": "code",
   "execution_count": 116,
   "metadata": {},
   "outputs": [],
   "source": [
    "torch.save(model.state_dict(), f'../model/d-{d}_p-{int(p*100)}.pt')"
   ]
  },
  {
   "cell_type": "code",
   "execution_count": 117,
   "metadata": {},
   "outputs": [
    {
     "data": {
      "text/plain": [
       "Text(0, 0.5, 'Skuteczność')"
      ]
     },
     "execution_count": 117,
     "metadata": {},
     "output_type": "execute_result"
    },
    {
     "data": {
      "image/png": "[encoded data removed]",
      "text/plain": [
       "<Figure size 432x432 with 1 Axes>"
      ]
     },
     "metadata": {
      "needs_background": "light"
     },
     "output_type": "display_data"
    }
   ],
   "source": [
    "fig1 = plt.figure(figsize=(6, 6))\n",
    "plt.plot(range(10), metrics1)\n",
    "plt.xlabel('Liczba epok')\n",
    "plt.ylabel('Skuteczność')"
   ]
  },
  {
   "cell_type": "markdown",
   "metadata": {},
   "source": [
    "## Entropia\n",
    "$H(x) = - \\sum_{i=1}^{n} p(x_i) \\log p(x_i)$"
   ]
  },
  {
   "cell_type": "code",
   "execution_count": null,
   "metadata": {},
   "outputs": [],
   "source": [
    "def get_prediction(model, data, device, image_number, loops, print_pred=False):\n",
    "    model.eval()\n",
    "    for m in model.modules():\n",
    "      if m.__class__.__name__.startswith('Dropout'):\n",
    "        m.train()\n",
    "        \n",
    "    data_im = data[image_number][0]\n",
    "    \n",
    "    all_preds = [0, 0, 0, 0, 0, 0, 0, 0, 0, 0]\n",
    "    \n",
    "    for i in range(loops):\n",
    "        with torch.no_grad():\n",
    "            pred = model(to_device(data_im,device).view(1,3,32,32))\n",
    "            pred = torch.exp(pred)\n",
    "            pred = pred[0].tolist()\n",
    "\n",
    "        all_preds = [all_preds[i]+pred[i] for i in range(len(pred))]\n",
    "        pred = [f'{el:.4f}' for el in pred]\n",
    "        if print_pred:\n",
    "            print(f'{i}.\\t{pred}\\tAVG:\\t{avg_pred:.4f}')\n",
    "        \n",
    "    avg_list = [el/loops for el in all_preds]\n",
    "    \n",
    "    return avg_list"
   ]
  },
  {
   "cell_type": "markdown",
   "metadata": {},
   "source": [
    "**Funkcja statystyczna, w której wywyołana jest funckja entropii, liczona jest średnia i odchylenie standardowe z podanej liczby _loops_**"
   ]
  },
  {
   "cell_type": "code",
   "execution_count": null,
   "metadata": {},
   "outputs": [],
   "source": [
    "def entropy(model, test_data, device, loops, image_number=random.randint(0,9999), print_entropy=False, print_pred=False):\n",
    "\n",
    "    avg_list = get_prediction(model, test_data, device, image_number, loops, print_pred)\n",
    "    \n",
    "    elem = [el*log10(el) for el in avg_list]\n",
    "    H = np.sum(elem)\n",
    "    H = -H\n",
    "    \n",
    "    if print_entropy:\n",
    "        print(H)\n",
    "        \n",
    "    return H, avg_list"
   ]
  },
  {
   "cell_type": "code",
   "execution_count": null,
   "metadata": {},
   "outputs": [],
   "source": [
    "# konwencja nazewnicza\n",
    "\n",
    "naming = f'loops-{loops}_d-{d}_'"
   ]
  },
  {
   "cell_type": "markdown",
   "metadata": {},
   "source": [
    "## Rysowanie wykresów pudełkowych"
   ]
  },
  {
   "cell_type": "markdown",
   "metadata": {},
   "source": [
    "### Zbiór treningowy"
   ]
  },
  {
   "cell_type": "code",
   "execution_count": null,
   "metadata": {},
   "outputs": [],
   "source": [
    "if not os.path.isfile(f'{naming}.json'):\n",
    "    with open(f'{naming}.json', \"w+\") as fileText:\n",
    "        fileText.writelines('{}')"
   ]
  },
  {
   "cell_type": "code",
   "execution_count": null,
   "metadata": {},
   "outputs": [],
   "source": [
    "with open(f'{naming}.json', mode='r') as fileJSON:\n",
    "    dataJSON = json.load(fileJSON)"
   ]
  },
  {
   "cell_type": "code",
   "execution_count": null,
   "metadata": {},
   "outputs": [],
   "source": [
    "if f'train-{int(p*100)}' not in dataJSON:\n",
    "    st_time = time.time()\n",
    "\n",
    "    train_data_entropy = {}\n",
    "    train_data_length = len(train_data.data)\n",
    "\n",
    "    for im in range(train_data_length):\n",
    "        H, avg_list = entropy(model, train_data, device, loops, im, print_entropy=False, print_pred=False)\n",
    "        sys.stdout.write(f'\\rImage {im}')\n",
    "        sys.stdout.flush()\n",
    "        train_data_entropy[im] = H\n",
    "        \n",
    "    print('***************************************************')\n",
    "    print(f'Elapsed time: {(time.time() - st_time)/60} minutes')"
   ]
  },
  {
   "cell_type": "code",
   "execution_count": null,
   "metadata": {},
   "outputs": [],
   "source": [
    "if f'train-{int(p*100)}' not in dataJSON:\n",
    "    train_data_params = {\n",
    "        'all': train_data_entropy,\n",
    "        'mean': mean(list(train_data_entropy.values())),\n",
    "        'st_dev': stdev(list(train_data_entropy.values())),\n",
    "        'length': train_data_length\n",
    "    }\n",
    "    \n",
    "    dataJSON[f'train-{int(p*100)}'] = train_data_params\n",
    "    \n",
    "    with open(f'{naming}.json', mode='w') as fileJSON:\n",
    "        fileJSON.write(json.dumps(dataJSON))"
   ]
  },
  {
   "cell_type": "markdown",
   "metadata": {},
   "source": [
    "### Zbiór testowy"
   ]
  },
  {
   "cell_type": "code",
   "execution_count": null,
   "metadata": {},
   "outputs": [],
   "source": [
    "if f'test-{int(p*100)}' not in dataJSON:\n",
    "    st_time = time.time()\n",
    "\n",
    "    test_data_entropy = {}\n",
    "    test_data_length = len(test_data.data)\n",
    "\n",
    "    for im in range(test_data_length):\n",
    "        H, avg_list = entropy(model, test_data, device, loops, im, print_entropy=False, print_pred=False)\n",
    "        sys.stdout.write(f'\\rImage {im}')\n",
    "        sys.stdout.flush()\n",
    "        test_data_entropy[im] = H\n",
    "        \n",
    "    print('***************************************************')\n",
    "    print(f'Elapsed time: {(time.time() - st_time)/60} minutes')"
   ]
  },
  {
   "cell_type": "code",
   "execution_count": null,
   "metadata": {},
   "outputs": [],
   "source": [
    "if f'test-{int(p*100)}' not in dataJSON:\n",
    "    test_data_params = {\n",
    "        'all': test_data_entropy,\n",
    "        'mean': mean(list(test_data_entropy.values())),\n",
    "        'st_dev': stdev(list(test_data_entropy.values())),\n",
    "        'length': test_data_length\n",
    "    }\n",
    "    \n",
    "    dataJSON[f'test-{int(p*100)}'] = test_data_params\n",
    "    \n",
    "    with open(f'{naming}.json', mode='w') as fileJSON:\n",
    "        fileJSON.write(json.dumps(dataJSON))"
   ]
  },
  {
   "cell_type": "markdown",
   "metadata": {},
   "source": [
    "### Zbiór zewnętrzny"
   ]
  },
  {
   "cell_type": "code",
   "execution_count": null,
   "metadata": {},
   "outputs": [],
   "source": [
    "outer_transform = transforms.Compose([\n",
    "    transforms.Resize(32),\n",
    "    transforms.CenterCrop(32),\n",
    "    transforms.ToTensor()\n",
    "])"
   ]
  },
  {
   "cell_type": "code",
   "execution_count": null,
   "metadata": {},
   "outputs": [],
   "source": [
    "outer_data = datasets.ImageFolder('./zbior_zewnetrzny/', transform=outer_transform)"
   ]
  },
  {
   "cell_type": "code",
   "execution_count": null,
   "metadata": {},
   "outputs": [],
   "source": [
    "if f'outer-{int(p*100)}' not in dataJSON:\n",
    "    st_time = time.time()\n",
    "\n",
    "    outer_data_entropy = {}\n",
    "    outer_data_length = len(outer_data)\n",
    "\n",
    "    for im in range(outer_data_length):\n",
    "        H, avg_list = entropy(model, outer_data, device, loops, im, print_entropy=False, print_pred=False)\n",
    "        sys.stdout.write(f'\\rImage {im}')\n",
    "        sys.stdout.flush()\n",
    "        outer_data_entropy[im] = H\n",
    "        \n",
    "    print('***************************************************')\n",
    "    print(f'Elapsed time: {(time.time() - st_time)/60} minutes')"
   ]
  },
  {
   "cell_type": "code",
   "execution_count": null,
   "metadata": {},
   "outputs": [],
   "source": [
    "if f'outer-{int(p*100)}' not in dataJSON:\n",
    "    outer_data_params = {\n",
    "        'all': outer_data_entropy,\n",
    "        'mean': mean(list(outer_data_entropy.values())),\n",
    "        'st_dev': stdev(list(outer_data_entropy.values())),\n",
    "        'length': outer_data_length\n",
    "    }\n",
    "    \n",
    "    dataJSON[f'outer-{int(p*100)}'] = outer_data_params\n",
    "    \n",
    "    with open(f'{naming}.json', mode='w') as fileJSON:\n",
    "        fileJSON.write(json.dumps(dataJSON))"
   ]
  },
  {
   "cell_type": "code",
   "execution_count": null,
   "metadata": {},
   "outputs": [],
   "source": [
    "train_val = list(dataJSON[f'train-{int(p*100)}']['all'].values())\n",
    "test_val = list(dataJSON[f'test-{int(p*100)}']['all'].values())\n",
    "outer_val = list(dataJSON[f'outer-{int(p*100)}']['all'].values())"
   ]
  },
  {
   "cell_type": "code",
   "execution_count": null,
   "metadata": {},
   "outputs": [],
   "source": [
    "fig = plt.figure(figsize=(20, 6))\n",
    "ax1 = fig.add_subplot(131)\n",
    "ax2 = fig.add_subplot(132)\n",
    "ax3 = fig.add_subplot(133)\n",
    "box_train = ax1.boxplot(train_val, sym=\"b.\")\n",
    "ax1.set_title('Zbiór treningowy')\n",
    "box_test = ax2.boxplot(test_val, sym=\"b.\")\n",
    "ax2.set_title('Zbiór testowy')\n",
    "box_outer = ax3.boxplot(outer_val, sym=\"b.\")\n",
    "ax3.set_title('Zbiór zewnętrzny')\n",
    "ax1.set_ylim(ymin=-0.05, ymax=1.05)\n",
    "ax2.set_ylim(ymin=-0.05, ymax=1.05)\n",
    "ax3.set_ylim(ymin=-0.05, ymax=1.05)\n",
    "plt.setp(plt.gcf().get_axes(), xticks=[])\n",
    "\n",
    "# plt.savefig(fname=f'{im_dir}loops-{loops}/d-{d}/p-{int(p*100)}')"
   ]
  },
  {
   "cell_type": "code",
   "execution_count": null,
   "metadata": {},
   "outputs": [],
   "source": [
    "if p == 0.5:\n",
    "    means = {\n",
    "        'train': [],\n",
    "        'test': [],\n",
    "        'outer': []\n",
    "    }\n",
    "\n",
    "    for i in range(1, 6):\n",
    "        with open(f'{naming}.json', mode='r') as file:\n",
    "            fjson = json.load(file);\n",
    "            means['train'].append(fjson[f'train-{int(i*10)}']['mean'])\n",
    "            means['test'].append(fjson[f'test-{int(i*10)}']['mean'])\n",
    "            means['outer'].append(fjson[f'outer-{int(i*10)}']['mean'])\n",
    "\n",
    "    x = [0.1, 0.2, 0.3, 0.4, 0.5]\n",
    "    \n",
    "    fig1 = plt.figure(figsize=(6, 6))\n",
    "    plt.plot(x, means['train'], marker='o', label='zbiór treningowy')\n",
    "    plt.plot(x, means['test'], marker='o', label='zbiór testowy')\n",
    "    plt.plot(x, means['outer'], marker='o', label='zbiór zewnętrzny')\n",
    "    plt.xticks(np.arange(0.1, 0.6, 0.1))\n",
    "    plt.xlabel('p')\n",
    "    plt.ylabel('średnia entropia')\n",
    "    plt.legend()\n",
    "#     plt.savefig(fname=f'{im_dir}loops-{loops}/d-{d}/entropia')"
   ]
  },
  {
   "cell_type": "code",
   "execution_count": null,
   "metadata": {},
   "outputs": [],
   "source": [
    "if p == 0.5:\n",
    "    with open(f'{loops}_place-{d}_.json') as j1:\n",
    "        j1p = json.load(j1)\n",
    "    \n",
    "\n",
    "    fig1, axs = plt.subplots(5, 3)\n",
    "    for ax, col in zip(axs[0], ['zbiór treningowy', 'zbiór testowy', 'zbiór zewnętrzny']):\n",
    "        ax.set_title(col)\n",
    "        \n",
    "    for ax, row in zip(axs[:,0], ['p=0.1', 'p=0.2', 'p=0.3', 'p=0.4', 'p=0.5']):\n",
    "        ax.set_ylabel(row, rotation=90, size='medium')\n",
    "        \n",
    "    plt.rcParams[\"figure.figsize\"] = (12,20)\n",
    "    axs[0,0].boxplot(list(j1p[f'train-10']['all'].values()), sym=\"b.\")\n",
    "    axs[0,0].set_ylim(ymin=-0.05, ymax=1.05)\n",
    "    axs[1,0].boxplot(list(j1p[f'train-20']['all'].values()), sym=\"b.\")\n",
    "    axs[1,0].set_ylim(ymin=-0.05, ymax=1.05)\n",
    "    axs[2,0].boxplot(list(j1p[f'train-30']['all'].values()), sym=\"b.\")\n",
    "    axs[2,0].set_ylim(ymin=-0.05, ymax=1.05)\n",
    "    axs[3,0].boxplot(list(j1p[f'train-40']['all'].values()), sym=\"b.\")\n",
    "    axs[3,0].set_ylim(ymin=-0.05, ymax=1.05)\n",
    "    axs[4,0].boxplot(list(j1p[f'train-50']['all'].values()), sym=\"b.\")\n",
    "    axs[4,0].set_ylim(ymin=-0.05, ymax=1.05)\n",
    "    \n",
    "    ###################################################################\n",
    "\n",
    "    axs[0,1].boxplot(list(j1p[f'test-10']['all'].values()), sym=\"b.\")\n",
    "    axs[0,1].set_ylim(ymin=-0.05, ymax=1.05)\n",
    "    axs[1,1].boxplot(list(j1p[f'test-20']['all'].values()), sym=\"b.\")\n",
    "    axs[1,1].set_ylim(ymin=-0.05, ymax=1.05)\n",
    "    axs[2,1].boxplot(list(j1p[f'test-30']['all'].values()), sym=\"b.\")\n",
    "    axs[2,1].set_ylim(ymin=-0.05, ymax=1.05)\n",
    "    axs[3,1].boxplot(list(j1p[f'test-40']['all'].values()), sym=\"b.\")\n",
    "    axs[3,1].set_ylim(ymin=-0.05, ymax=1.05)\n",
    "    axs[4,1].boxplot(list(j1p[f'test-50']['all'].values()), sym=\"b.\")\n",
    "    axs[4,1].set_ylim(ymin=-0.05, ymax=1.05)\n",
    "\n",
    "    ###################################################################\n",
    "    \n",
    "    axs[0,2].boxplot(list(j1p[f'outer-10']['all'].values()), sym=\"b.\")\n",
    "    axs[0,2].set_ylim(ymin=-0.05, ymax=1.05)\n",
    "    axs[1,2].boxplot(list(j1p[f'outer-20']['all'].values()), sym=\"b.\")\n",
    "    axs[1,2].set_ylim(ymin=-0.05, ymax=1.05)\n",
    "    axs[2,2].boxplot(list(j1p[f'outer-30']['all'].values()), sym=\"b.\")\n",
    "    axs[2,2].set_ylim(ymin=-0.05, ymax=1.05)\n",
    "    axs[3,2].boxplot(list(j1p[f'outer-40']['all'].values()), sym=\"b.\")\n",
    "    axs[3,2].set_ylim(ymin=-0.05, ymax=1.05)\n",
    "    axs[4,2].boxplot(list(j1p[f'outer-50']['all'].values()), sym=\"b.\")\n",
    "    axs[4,2].set_ylim(ymin=-0.05, ymax=1.05)\n",
    "    plt.setp(plt.gcf().get_axes(), xticks=[])\n",
    "\n",
    "#     plt.savefig(fname=f'{im_dir}loops-{loops}/d-{d}/wykresy-pudelkowe')"
   ]
  }
 ],
 "metadata": {
  "kernelspec": {
   "display_name": "Python 3",
   "language": "python",
   "name": "python3"
  },
  "language_info": {
   "codemirror_mode": {
    "name": "ipython",
    "version": 3
   },
   "file_extension": ".py",
   "mimetype": "text/x-python",
   "name": "python",
   "nbconvert_exporter": "python",
   "pygments_lexer": "ipython3",
   "version": "3.7.4"
  }
 },
 "nbformat": 4,
 "nbformat_minor": 4
}
